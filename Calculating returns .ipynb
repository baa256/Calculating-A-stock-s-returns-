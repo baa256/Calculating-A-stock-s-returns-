{
 "cells": [
  {
   "cell_type": "code",
   "execution_count": 1,
   "metadata": {},
   "outputs": [],
   "source": [
    "import pandas as pd\n",
    "import numpy as np\n",
    "import quandl\n",
    "import math"
   ]
  },
  {
   "cell_type": "code",
   "execution_count": 6,
   "metadata": {},
   "outputs": [
    {
     "name": "stdout",
     "output_type": "stream",
     "text": [
      "            Adj. Close    HL_PCT  PCT_change  Adj. Volume   returns      label\n",
      "Date                                                                          \n",
      "2004-08-19   50.322842  3.712563    0.324968   44659000.0  0.003239  69.078238\n",
      "2004-08-20   54.322689  0.710922    7.227007   22834300.0  0.067399  67.839414\n",
      "2004-08-23   54.869377  3.729433   -1.227880   18256100.0 -0.012431  68.912727\n",
      "2004-08-24   52.597363  6.417469   -5.726357   15247300.0 -0.060742  70.668146\n",
      "2004-08-25   53.164113  1.886792    1.183658    9188600.0  0.011698  71.219849\n"
     ]
    }
   ],
   "source": [
    "df = quandl.get('WIKI/GOOGL')\n",
    "df = df[['Adj. Open', 'Adj. High' , 'Adj. Low' , 'Adj. Close' , 'Adj. Volume',]]\n",
    "df['PCT_change'] = (df['Adj. Close'] - df['Adj. Open']) / df['Adj. Open'] * 100.0\n",
    "df['HL_PCT'] = (df['Adj. High'] - df['Adj. Close']) / df['Adj. Close'] * 100.0\n",
    "df['returns'] = (df['Adj. Close'] - df['Adj. Open']) / df['Adj. Close']\n",
    "df =  df[['Adj. Close', 'HL_PCT' , 'PCT_change', 'Adj. Volume','returns']]\n",
    "forecast_col = 'Adj. Close'\n",
    "df.fillna(-99999, inplace= True)\n",
    "\n",
    "forecast_out = int(math.ceil(0.01*len(df)))\n",
    "df['label'] = df[forecast_col].shift(-forecast_out)\n",
    "\n",
    "print(df.head())"
   ]
  },
  {
   "cell_type": "code",
   "execution_count": null,
   "metadata": {},
   "outputs": [],
   "source": []
  }
 ],
 "metadata": {
  "kernelspec": {
   "display_name": "Python 3",
   "language": "python",
   "name": "python3"
  },
  "language_info": {
   "codemirror_mode": {
    "name": "ipython",
    "version": 3
   },
   "file_extension": ".py",
   "mimetype": "text/x-python",
   "name": "python",
   "nbconvert_exporter": "python",
   "pygments_lexer": "ipython3",
   "version": "3.7.1"
  }
 },
 "nbformat": 4,
 "nbformat_minor": 2
}
